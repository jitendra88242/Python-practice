{
 "cells": [
  {
   "cell_type": "code",
   "execution_count": 9,
   "id": "6b994963-f0bc-4ab1-b73b-70377015da1c",
   "metadata": {},
   "outputs": [
    {
     "name": "stdout",
     "output_type": "stream",
     "text": [
      "[[1, 5, 9], [2, 6, 10], [3, 7, 11], [4, 8, 12]]\n"
     ]
    }
   ],
   "source": [
    "a=[[1,2,3,4],[5,6,7,8],[9,10,11,12]]\n",
    "r = len(a)\n",
    "c = len(a[0])\n",
    "l1=[]\n",
    "for i in range(c):\n",
    "    l2=[]\n",
    "    for x in range(r):\n",
    "        l2.append(a[x][i])\n",
    "    l1.append(l2)\n",
    "print(l1)"
   ]
  },
  {
   "cell_type": "code",
   "execution_count": 1,
   "id": "02aca01f-85fa-4263-86bb-b72c292b8c7b",
   "metadata": {},
   "outputs": [
    {
     "ename": "SyntaxError",
     "evalue": "unmatched ')' (3220387367.py, line 2)",
     "output_type": "error",
     "traceback": [
      "\u001b[1;36m  Cell \u001b[1;32mIn[1], line 2\u001b[1;36m\u001b[0m\n\u001b[1;33m    b = intIinput())\u001b[0m\n\u001b[1;37m                   ^\u001b[0m\n\u001b[1;31mSyntaxError\u001b[0m\u001b[1;31m:\u001b[0m unmatched ')'\n"
     ]
    }
   ],
   "source": [
    "a = int(input())\n",
    "b = intIinput())\n",
    "for i in range (a,b):\n",
    "    if i % 5==0:\n",
    "        breake\n",
    "print(i)     "
   ]
  },
  {
   "cell_type": "code",
   "execution_count": null,
   "id": "51ed32b0-b627-4ba4-bb91-b044d2ec56ce",
   "metadata": {},
   "outputs": [],
   "source": [
    "a=[[1,2,3],[4,5,6],[7,8,9]]\n",
    "r = len(a)\n",
    "c = len(a[0])\n",
    "l1 = []\n",
    "for i in range(c):\n",
    "    l2=[]\n",
    "    for x in range(r):\n",
    "        l2.append=(a[x][i])"
   ]
  }
 ],
 "metadata": {
  "kernelspec": {
   "display_name": "Python 3 (ipykernel)",
   "language": "python",
   "name": "python3"
  },
  "language_info": {
   "codemirror_mode": {
    "name": "ipython",
    "version": 3
   },
   "file_extension": ".py",
   "mimetype": "text/x-python",
   "name": "python",
   "nbconvert_exporter": "python",
   "pygments_lexer": "ipython3",
   "version": "3.12.4"
  }
 },
 "nbformat": 4,
 "nbformat_minor": 5
}
