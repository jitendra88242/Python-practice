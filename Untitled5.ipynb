{
 "cells": [
  {
   "cell_type": "code",
   "execution_count": 7,
   "id": "400b6683-d35a-461f-8937-10b1857b7be9",
   "metadata": {},
   "outputs": [
    {
     "data": {
      "text/plain": [
       "''"
      ]
     },
     "execution_count": 7,
     "metadata": {},
     "output_type": "execute_result"
    }
   ],
   "source": [
    "s = \"Learning python is very easy\"\n",
    "(s[5:-1:-1])"
   ]
  },
  {
   "cell_type": "code",
   "execution_count": 11,
   "id": "331876e5-03be-414e-aac7-08abbec4a81a",
   "metadata": {},
   "outputs": [
    {
     "name": "stdin",
     "output_type": "stream",
     "text": [
      "Enter your city Hyderabad\n"
     ]
    },
    {
     "name": "stdout",
     "output_type": "stream",
     "text": [
      "Hello hyderbadi..adab\n"
     ]
    }
   ],
   "source": [
    "city=input(\"Enter your city\")\n",
    "scity=city.strip()\n",
    "if scity=='Hyderabad':\n",
    "    print(\"Hello hyderbadi..adab\")\n",
    "else:\n",
    "    print(\"Your entered city is invalid \")"
   ]
  },
  {
   "cell_type": "code",
   "execution_count": null,
   "id": "99008d1e-a224-4d73-b916-dadf9af78e5d",
   "metadata": {},
   "outputs": [],
   "source": []
  }
 ],
 "metadata": {
  "kernelspec": {
   "display_name": "Python 3 (ipykernel)",
   "language": "python",
   "name": "python3"
  },
  "language_info": {
   "codemirror_mode": {
    "name": "ipython",
    "version": 3
   },
   "file_extension": ".py",
   "mimetype": "text/x-python",
   "name": "python",
   "nbconvert_exporter": "python",
   "pygments_lexer": "ipython3",
   "version": "3.12.4"
  }
 },
 "nbformat": 4,
 "nbformat_minor": 5
}
