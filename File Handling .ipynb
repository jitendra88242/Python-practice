{
 "cells": [
  {
   "cell_type": "code",
   "execution_count": 5,
   "id": "e967d44e-3083-4bf4-938d-d7e88d5623d1",
   "metadata": {},
   "outputs": [
    {
     "name": "stdout",
     "output_type": "stream",
     "text": [
      "File Name: abc.txt\n",
      "File Mode: w\n",
      "is File Readale: False\n",
      "Is File Writable: True\n",
      "Is File Closed: True\n"
     ]
    }
   ],
   "source": [
    "f= open(\"abc.txt\",\"w\")\n",
    "print(\"File Name:\",f.name)\n",
    "print(\"File Mode:\",f.mode)\n",
    "print(\"is File Readale:\",f.readable())\n",
    "print(\"Is File Writable:\",f.writable())\n",
    "f.close()\n",
    "print(\"Is File Closed:\",f.closed)"
   ]
  },
  {
   "cell_type": "code",
   "execution_count": 17,
   "id": "92a74f44-0396-45fb-8502-131c513d7535",
   "metadata": {},
   "outputs": [
    {
     "name": "stdout",
     "output_type": "stream",
     "text": [
      "Data written to the file successfully\n"
     ]
    }
   ],
   "source": [
    "f = open(\"abc.txt\",\"w\")\n",
    "f.write(\"Duga\\n\")\n",
    "f.write(\"Solutio\\n\")\n",
    "print(\"Data written to the file successfully\")\n",
    "f.close()"
   ]
  },
  {
   "cell_type": "code",
   "execution_count": 21,
   "id": "28f09ece-6a33-4f15-bcbe-d43dd1c5a0d9",
   "metadata": {},
   "outputs": [
    {
     "name": "stdout",
     "output_type": "stream",
     "text": [
      "List of lines writen to the file successfully\n"
     ]
    }
   ],
   "source": [
    "f=open(\"abc.txt\",\"w\")\n",
    "list=[\"Sunnt\\n\",\"bunny\\n\",\"vinny\\n\"]\n",
    "f.writelines(list)\n",
    "print(\"List of lines writen to the file successfully\")\n",
    "f.close()"
   ]
  },
  {
   "cell_type": "code",
   "execution_count": 23,
   "id": "6e47c940-7dfa-4643-99a8-0ef286d43d3c",
   "metadata": {},
   "outputs": [
    {
     "name": "stdout",
     "output_type": "stream",
     "text": [
      "Sunnt\n",
      "bunny\n",
      "vinny\n",
      "\n"
     ]
    }
   ],
   "source": [
    "f=open(\"abc.txt\",\"r\")\n",
    "data=f.read()\n",
    "print(data)\n",
    "f.close()"
   ]
  },
  {
   "cell_type": "code",
   "execution_count": 25,
   "id": "e5322438-2031-48ba-8f58-604de3b971fd",
   "metadata": {},
   "outputs": [
    {
     "name": "stdout",
     "output_type": "stream",
     "text": [
      "Sunnt\n",
      "bunn\n"
     ]
    }
   ],
   "source": [
    "f=open(\"abc.txt\",\"r\")\n",
    "data=f.read(10)\n",
    "print(data)\n",
    "f.close()"
   ]
  },
  {
   "cell_type": "code",
   "execution_count": 27,
   "id": "17e23d84-178d-4aef-b008-e6494eaee7eb",
   "metadata": {},
   "outputs": [
    {
     "name": "stdout",
     "output_type": "stream",
     "text": [
      "Sunnt\n",
      "bunny\n",
      "vinny\n"
     ]
    }
   ],
   "source": [
    "#To read data line by line\n",
    "f=open(\"abc.txt\",\"r\")\n",
    "line1=f.readline()\n",
    "print(line1,end=\"\")\n",
    "line2=f.readline()\n",
    "print(line2,end=\"\")\n",
    "line3=f.readline()\n",
    "print(line3,end=\"\")\n",
    "f.close()"
   ]
  },
  {
   "cell_type": "code",
   "execution_count": 33,
   "id": "b10793fd-7ad0-480b-bf73-17ae7fa0fe62",
   "metadata": {},
   "outputs": [
    {
     "name": "stdout",
     "output_type": "stream",
     "text": [
      "Sunnt\n",
      "bunny\n",
      "vinny\n"
     ]
    }
   ],
   "source": [
    "#To read all line into list\n",
    "f=open(\"abc.txt\",\"r\")\n",
    "lines=f.readlines()\n",
    "for line in lines:\n",
    "    print(line,end=\"\")\n",
    "f.close()"
   ]
  },
  {
   "cell_type": "code",
   "execution_count": 35,
   "id": "0c335026-e95b-4522-9858-a552a7bb897b",
   "metadata": {},
   "outputs": [
    {
     "name": "stdout",
     "output_type": "stream",
     "text": [
      "Sun\n",
      "nt\n",
      "\n",
      "bunn\n",
      "Remaining data\n",
      "\n"
     ]
    }
   ],
   "source": [
    "f=open(\"abc.txt\",\"r\")\n",
    "print(f.read(3))\n",
    "print(f.readline())\n",
    "print(f.read(4))\n",
    "print(\"Remaining data\")\n",
    "print()"
   ]
  },
  {
   "cell_type": "code",
   "execution_count": 39,
   "id": "bc719fc4-4d80-4762-b260-2c2e8f6d55ef",
   "metadata": {},
   "outputs": [
    {
     "name": "stdout",
     "output_type": "stream",
     "text": [
      "Is File Closed: False\n"
     ]
    }
   ],
   "source": [
    "#with statement\n",
    "with open(\"abc.txt\",\"w\") as f:\n",
    "    f.write(\"Durga\\n\")\n",
    "    f.write(\"Software\\n\")\n",
    "    f.write(\"Solution\\n\")\n",
    "    print(\"Is File Closed:\",f.closed)\n",
    "f.close()\n",
    "    "
   ]
  },
  {
   "cell_type": "code",
   "execution_count": 45,
   "id": "27277034-e05a-4446-890a-e3ec229960f6",
   "metadata": {},
   "outputs": [
    {
     "name": "stdout",
     "output_type": "stream",
     "text": [
      "0\n",
      "Du\n",
      "2\n",
      "rga\n",
      "5\n"
     ]
    }
   ],
   "source": [
    "f=open(\"abc.txt\",\"r\")\n",
    "print(f.tell())\n",
    "print(f.read(2))\n",
    "print(f.tell())\n",
    "print(f.read(3))\n",
    "print(f.tell())"
   ]
  },
  {
   "cell_type": "code",
   "execution_count": 57,
   "id": "1a51c3a8-eea9-4566-89a6-5743fdff41f7",
   "metadata": {},
   "outputs": [
    {
     "name": "stdout",
     "output_type": "stream",
     "text": [
      "In all student one is stupids\n",
      "The current cursor position: 29\n",
      "The current cursor position: 17\n",
      "Data after Modification\n",
      "In all student onGEMS!!!upids\n"
     ]
    }
   ],
   "source": [
    "data = \"In all student one is stupids\"\n",
    "f = open(\"abc.txt\",\"w\")\n",
    "f.write(data)\n",
    "with open (\"abc.txt\",\"r+\") as f:\n",
    "    text=f.read()\n",
    "    print(text)\n",
    "    print(\"The current cursor position:\",f.tell())\n",
    "    f.seek(17)\n",
    "    print(\"The current cursor position:\",f.tell())\n",
    "    f.write(\"GEMS!!!\")\n",
    "    f.seek(0)\n",
    "    text=f.read()\n",
    "    print(\"Data after Modification\")\n",
    "    print(text)"
   ]
  },
  {
   "cell_type": "code",
   "execution_count": null,
   "id": "fdda316e-3b7d-4cf4-a2e3-5011bca7ff90",
   "metadata": {},
   "outputs": [],
   "source": [
    "import os,sys\n",
    "fname=input(\"Enter File Name:\")\n",
    "if os.path.isfile(fname):\n",
    "    print(\"File exists:\",fname)\n",
    "    f=open(fname,\"r\")\n",
    "else:\n",
    "    print(\"File does not exist:\",fname)\n",
    "    sys.exit(0)\n",
    "print(\"The content of file is:\")\n",
    "data=fy.read()\n",
    "print(data)"
   ]
  },
  {
   "cell_type": "code",
   "execution_count": null,
   "id": "a048560b-a9b2-4d41-b6e8-da4c12b82c58",
   "metadata": {},
   "outputs": [],
   "source": []
  }
 ],
 "metadata": {
  "kernelspec": {
   "display_name": "Python 3 (ipykernel)",
   "language": "python",
   "name": "python3"
  },
  "language_info": {
   "codemirror_mode": {
    "name": "ipython",
    "version": 3
   },
   "file_extension": ".py",
   "mimetype": "text/x-python",
   "name": "python",
   "nbconvert_exporter": "python",
   "pygments_lexer": "ipython3",
   "version": "3.12.4"
  }
 },
 "nbformat": 4,
 "nbformat_minor": 5
}
