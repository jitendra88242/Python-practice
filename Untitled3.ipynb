{
 "cells": [
  {
   "cell_type": "code",
   "execution_count": 3,
   "id": "7aafd94e-3d54-4ae9-b4ba-d349736294f8",
   "metadata": {},
   "outputs": [
    {
     "name": "stdout",
     "output_type": "stream",
     "text": [
      "60\n",
      "30.0\n"
     ]
    }
   ],
   "source": [
    "#Enter 3 numbers and get their sum and average.\n",
    "a = 10\n",
    "b = 20\n",
    "c = 30\n",
    "print(a+b+c)\n",
    "print((a+b+c)/2)"
   ]
  },
  {
   "cell_type": "code",
   "execution_count": 19,
   "id": "35fb7ec9-101b-47f2-a12d-b8943a87e5f2",
   "metadata": {},
   "outputs": [
    {
     "name": "stdout",
     "output_type": "stream",
     "text": [
      "1256.0\n",
      "cir:  125.60000000000001\n"
     ]
    }
   ],
   "source": [
    "#Enter the radius of the circle and get the area and circumference.\n",
    "r = 20\n",
    "pi = 3.14\n",
    "print( pi*r**2)\n",
    "print(\"cir: \",2*pi*r)"
   ]
  },
  {
   "cell_type": "code",
   "execution_count": 21,
   "id": "76004a66-f8ab-44a4-9c58-390b689a0436",
   "metadata": {},
   "outputs": [
    {
     "ename": "SyntaxError",
     "evalue": "invalid syntax (609649997.py, line 2)",
     "output_type": "error",
     "traceback": [
      "\u001b[1;36m  Cell \u001b[1;32mIn[21], line 2\u001b[1;36m\u001b[0m\n\u001b[1;33m    that is twice the value of x. Reassign x to y minus 5 and print the final values\u001b[0m\n\u001b[1;37m                  ^\u001b[0m\n\u001b[1;31mSyntaxError\u001b[0m\u001b[1;31m:\u001b[0m invalid syntax\n"
     ]
    }
   ],
   "source": [
    "#21. Create a variable x and assign it the value 10. Then create another variable y\n",
    "that is twice the value of x. Reassign x to y minus 5 and print the final values\n",
    "of x and y.\n",
    "x = 10\n",
    "y = 20\n",
    "print(x)"
   ]
  },
  {
   "cell_type": "code",
   "execution_count": null,
   "id": "5cf456f3-e770-40d2-babd-40c72ce1f4d9",
   "metadata": {},
   "outputs": [],
   "source": [
    "  "
   ]
  },
  {
   "cell_type": "code",
   "execution_count": 25,
   "id": "76bc509a-088d-49bf-83b4-c48709a73762",
   "metadata": {},
   "outputs": [
    {
     "name": "stdout",
     "output_type": "stream",
     "text": [
      "[[1, 4], [1, 4], [2, 5], [2, 5], [3, 6], [3, 6]]\n"
     ]
    }
   ],
   "source": [
    "a = [[1,2,3],[4,5,6]]\n",
    "r = len(a)\n",
    "c = len(a[0])\n",
    "l1=[]\n",
    "for i in range(c):\n",
    "    l2=[]\n",
    "    for x in  range(r):\n",
    "        l2.append(a[x][i])\n",
    "        l1.append(l2)\n",
    "print(l1)"
   ]
  },
  {
   "cell_type": "code",
   "execution_count": 5,
   "id": "263ab28e-bb68-4021-9060-39d0ce363fc8",
   "metadata": {},
   "outputs": [
    {
     "ename": "SyntaxError",
     "evalue": "invalid syntax (185306813.py, line 2)",
     "output_type": "error",
     "traceback": [
      "\u001b[1;36m  Cell \u001b[1;32mIn[5], line 2\u001b[1;36m\u001b[0m\n\u001b[1;33m    a single line. Compute the average of these three numbers and print it.\u001b[0m\n\u001b[1;37m      ^\u001b[0m\n\u001b[1;31mSyntaxError\u001b[0m\u001b[1;31m:\u001b[0m invalid syntax\n"
     ]
    }
   ],
   "source": [
    "#23. Assign the values 3.5, 2.5, and 1.5 to the variables a, b, and c respectively in\n",
    "a single line. Compute the average of these three numbers and print it.\n",
    "a = 3.5\n",
    "b = 2.5\n",
    "c = 1.5\n",
    "d = a+b+c/2\n",
    "print((a+b+c)/2)"
   ]
  },
  {
   "cell_type": "code",
   "execution_count": 1,
   "id": "ccfbc73d-fb20-4c81-9f4e-f63147954ae9",
   "metadata": {},
   "outputs": [
    {
     "name": "stdin",
     "output_type": "stream",
     "text": [
      "enter the no of lines: 9\n",
      "enter the character to be used: a\n"
     ]
    },
    {
     "name": "stdout",
     "output_type": "stream",
     "text": [
      "         \n",
      "        a \n",
      "       a a \n",
      "      a a a \n",
      "     a a a a \n",
      "    a a a a a \n",
      "   a a a a a a \n",
      "  a a a a a a a \n",
      " a a a a a a a a \n"
     ]
    }
   ],
   "source": [
    "n=int(input(\"enter the no of lines:\"))\n",
    "a=input(\"enter the character to be used:\")\n",
    "a=a+\" \"\n",
    "for i in range(0,n):\n",
    "    print(\" \"*(int((n-i)))+(a*i))"
   ]
  },
  {
   "cell_type": "code",
   "execution_count": 19,
   "id": "311be517-72d1-423a-a002-7b1c03e78d32",
   "metadata": {},
   "outputs": [
    {
     "name": "stdout",
     "output_type": "stream",
     "text": [
      "* * * * * \n",
      "* * * * * \n",
      "* * * * * \n",
      "* * * * * \n",
      "* * * * * \n"
     ]
    }
   ],
   "source": [
    "n = 5\n",
    "for i in range(n):\n",
    "    for j in range(n):\n",
    "        print(\"*\",end=\" \")\n",
    "    print()"
   ]
  },
  {
   "cell_type": "code",
   "execution_count": 23,
   "id": "e4f4150e-60a2-47b5-a7f0-ee086377bd4e",
   "metadata": {},
   "outputs": [
    {
     "name": "stdout",
     "output_type": "stream",
     "text": [
      "* \n",
      "* * \n",
      "* * * \n",
      "* * * * \n",
      "* * * * * \n",
      "* * * * * * \n",
      "* * * * * * * \n",
      "* * * * * * * * \n",
      "* * * * * * * * * \n"
     ]
    }
   ],
   "source": [
    "n = 9\n",
    "for i in range(n):\n",
    "    for j in range(i+1):\n",
    "        print(\"*\",end=\" \")\n",
    "    print()"
   ]
  },
  {
   "cell_type": "code",
   "execution_count": 27,
   "id": "4cfcdcc2-15a2-40dc-bfd8-a1953ae0b3c2",
   "metadata": {},
   "outputs": [
    {
     "name": "stdout",
     "output_type": "stream",
     "text": [
      "* * * * * * * * * \n",
      "* * * * * * * * \n",
      "* * * * * * * \n",
      "* * * * * * \n",
      "* * * * * \n",
      "* * * * \n",
      "* * * \n",
      "* * \n",
      "* \n"
     ]
    }
   ],
   "source": [
    "n = 9\n",
    "for i in range(n):\n",
    "    for j in range(i,n):\n",
    "        print(\"*\",end=\" \")\n",
    "    print()"
   ]
  },
  {
   "cell_type": "code",
   "execution_count": 64,
   "id": "a202e075-6d8a-4b60-b143-d40df0f8ad31",
   "metadata": {},
   "outputs": [
    {
     "name": "stdout",
     "output_type": "stream",
     "text": [
      "                  @ \n",
      "                @ @ \n",
      "              @ @ @ \n",
      "            @ @ @ @ \n",
      "          @ @ @ @ @ \n",
      "        @ @ @ @ @ @ \n",
      "      @ @ @ @ @ @ @ \n",
      "    @ @ @ @ @ @ @ @ \n",
      "  @ @ @ @ @ @ @ @ @ \n"
     ]
    }
   ],
   "source": [
    "n = 9\n",
    "for i in range(n):\n",
    "    for j in range(i,n):\n",
    "        print(\" \",end=\" \")\n",
    "    for j in range(i+1):\n",
    "        print(\"@\",end=\" \")\n",
    "    print()"
   ]
  },
  {
   "cell_type": "code",
   "execution_count": 113,
   "id": "c9e10f05-eeb1-43bc-a575-9f81fe3b273e",
   "metadata": {},
   "outputs": [
    {
     "name": "stdout",
     "output_type": "stream",
     "text": [
      "  @ @ @ @ @ @ @ @ @ @ @ @ @ @ @ @ @ \n",
      "    @ @ @ @ @ @ @ @ @ @ @ @ @ @ @ \n",
      "      @ @ @ @ @ @ @ @ @ @ @ @ @ \n",
      "        @ @ @ @ @ @ @ @ @ @ @ \n",
      "          @ @ @ @ @ @ @ @ @ \n",
      "            @ @ @ @ @ @ @ \n",
      "              @ @ @ @ @ \n",
      "                @ @ @ \n",
      "                  @ \n"
     ]
    }
   ],
   "source": [
    "n = 9\n",
    "for i in range(n):\n",
    "    for j in range(i+1):\n",
    "        print(\" \",end=\" \")\n",
    "    for j in range(i,n-1):\n",
    "        print(\"@\",end=\" \")\n",
    "    for j in range(i,n):\n",
    "       print(\"@\",end=\" \")\n",
    "    print()"
   ]
  },
  {
   "cell_type": "code",
   "execution_count": 117,
   "id": "2c404c9f-6a14-421b-ab96-30d2dc8da350",
   "metadata": {},
   "outputs": [
    {
     "name": "stdout",
     "output_type": "stream",
     "text": [
      "                  @ \n",
      "                @ @ @ \n",
      "              @ @ @ @ @ \n",
      "            @ @ @ @ @ @ @ \n",
      "          @ @ @ @ @ @ @ @ @ \n",
      "        @ @ @ @ @ @ @ @ @ @ @ \n",
      "      @ @ @ @ @ @ @ @ @ @ @ @ @ \n",
      "    @ @ @ @ @ @ @ @ @ @ @ @ @ @ @ \n",
      "  @ @ @ @ @ @ @ @ @ @ @ @ @ @ @ @ @ \n"
     ]
    }
   ],
   "source": [
    "n = 9\n",
    "for i in range(n):\n",
    "    for j in range(i,n):\n",
    "        print(\" \",end=\" \")\n",
    "    for j in range(i):\n",
    "        print(\"@\",end=\" \")\n",
    "    for j in range(i+1):\n",
    "        print(\"@\",end=\" \")\n",
    "    print()"
   ]
  },
  {
   "cell_type": "code",
   "execution_count": 125,
   "id": "d81a7350-c325-429f-9bed-bc595e21d0d2",
   "metadata": {},
   "outputs": [
    {
     "name": "stdout",
     "output_type": "stream",
     "text": [
      "          @ \n",
      "        @ @ @ \n",
      "      @ @ @ @ @ \n",
      "    @ @ @ @ @ @ @ \n",
      "  @ @ @ @ @ @ @ @ @ \n"
     ]
    }
   ],
   "source": [
    "n = 5\n",
    "for i in range(n):\n",
    "    for j in range(i,n):\n",
    "        print(\" \",end=\" \")\n",
    "    for j in range(i):\n",
    "        print(\"@\",end=\" \")\n",
    "    for j in range(i+1):\n",
    "        print(\"@\",end=\" \")\n",
    "    print()"
   ]
  },
  {
   "cell_type": "code",
   "execution_count": 19,
   "id": "808faf11-c426-4f0c-8772-fc692890ec50",
   "metadata": {},
   "outputs": [
    {
     "name": "stdout",
     "output_type": "stream",
     "text": [
      "                  @ \n",
      "                @ @ @ \n",
      "              @ @ @ @ @ \n",
      "            @ @ @ @ @ @ @ \n",
      "          @ @ @ @ @ @ @ @ @ \n",
      "        @ @ @ @ @ @ @ @ @ @ @ \n",
      "      @ @ @ @ @ @ @ @ @ @ @ @ @ \n",
      "    @ @ @ @ @ @ @ @ @ @ @ @ @ @ @ \n",
      "  @ @ @ @ @ @ @ @ @ @ @ @ @ @ @ @ @ \n",
      "    @ @ @ @ @ @ @ @ @ @ @ @ @ @ @ \n",
      "      @ @ @ @ @ @ @ @ @ @ @ @ @ \n",
      "        @ @ @ @ @ @ @ @ @ @ @ \n",
      "          @ @ @ @ @ @ @ @ @ \n",
      "            @ @ @ @ @ @ @ \n",
      "              @ @ @ @ @ \n",
      "                @ @ @ \n",
      "                  @ \n"
     ]
    }
   ],
   "source": [
    "n = 9\n",
    "for i in range(n-1):\n",
    "    for j in range(i,n):\n",
    "        print(\" \",end=\" \")\n",
    "    for j in range(i):\n",
    "        print(\"@\",end=\" \")\n",
    "    for j in range(i+1):\n",
    "        print(\"@\",end=\" \")\n",
    "    print()\n",
    "for i in range(n):\n",
    "    for j in range(i+1):\n",
    "        print(\" \",end=\" \")\n",
    "    for j in range(i,n-1):\n",
    "        print(\"@\",end=\" \")\n",
    "    for j in range(i,n):\n",
    "       print(\"@\",end=\" \")\n",
    "    print()"
   ]
  },
  {
   "cell_type": "code",
   "execution_count": 1,
   "id": "e7c27f9c-691f-40bb-a6a0-6f5768403133",
   "metadata": {},
   "outputs": [
    {
     "name": "stdout",
     "output_type": "stream",
     "text": [
      "* * * * * \n",
      "* * * * \n",
      "* * * \n",
      "* * \n",
      "* \n"
     ]
    }
   ],
   "source": [
    "n = 5\n",
    "for i in range(n):\n",
    "    for j in range(i,n):\n",
    "        print(\"*\",end=\" \")\n",
    "    print()"
   ]
  },
  {
   "cell_type": "code",
   "execution_count": 14,
   "id": "994b930e-2fed-4ca9-8275-c76a6605cd5a",
   "metadata": {},
   "outputs": [
    {
     "name": "stdout",
     "output_type": "stream",
     "text": [
      "1 \n",
      "2 2 \n",
      "3 3 3 \n",
      "4 4 4 4 \n",
      "5 5 5 5 5 \n"
     ]
    }
   ],
   "source": [
    "n= 5\n",
    "p = 1\n",
    "for i in range(n):\n",
    "    for j in range(i+1):\n",
    "        print(p,end=\" \")\n",
    "    p+= 1\n",
    "    print()"
   ]
  },
  {
   "cell_type": "code",
   "execution_count": 16,
   "id": "b3f00232-eb38-426c-adfc-5e82d8bcc296",
   "metadata": {},
   "outputs": [
    {
     "name": "stdout",
     "output_type": "stream",
     "text": [
      "5 \n",
      "4 4 \n",
      "3 3 3 \n",
      "2 2 2 2 \n",
      "1 1 1 1 1 \n"
     ]
    }
   ],
   "source": [
    "n= 5\n",
    "p = 5\n",
    "for i in range(n):\n",
    "    for j in range(i+1):\n",
    "        print(p,end=\" \")\n",
    "    p-= 1\n",
    "    print()"
   ]
  },
  {
   "cell_type": "code",
   "execution_count": 28,
   "id": "a7650234-4404-445a-bbcf-bef78ce63a7d",
   "metadata": {},
   "outputs": [
    {
     "name": "stdout",
     "output_type": "stream",
     "text": [
      "  5 5 5 5 5 5 5 5 5 \n",
      "    4 4 4 4 4 4 4 \n",
      "      3 3 3 3 3 \n",
      "        2 2 2 \n",
      "          1 \n"
     ]
    }
   ],
   "source": [
    "n = 5\n",
    "p = 5\n",
    "for i in range (n):\n",
    "    for j in range(i+1):\n",
    "        print(\" \",end=\" \")\n",
    "    for j in range(i,n-1):\n",
    "        print(p,end=\" \")\n",
    "    for j in range(i,n):\n",
    "        print(p,end=\" \")\n",
    "  \n",
    "    p-= 1\n",
    "    print()\n",
    "    "
   ]
  },
  {
   "cell_type": "code",
   "execution_count": 32,
   "id": "aef2d736-4549-49d2-a42b-bf2e9b7eb5a2",
   "metadata": {},
   "outputs": [
    {
     "name": "stdout",
     "output_type": "stream",
     "text": [
      "          1 \n",
      "        2 2 2 \n",
      "      3 3 3 3 3 \n",
      "    4 4 4 4 4 4 4 \n",
      "  5 5 5 5 5 5 5 5 5 \n"
     ]
    }
   ],
   "source": [
    "n = 5\n",
    "p = 1\n",
    "for i in range(n):\n",
    "    for j in range(i,n):\n",
    "        print(\" \",end=\" \") \n",
    "    for j in range(i+1-1):\n",
    "        print(p,end=\" \")\n",
    "    for j in range(i+1):\n",
    "        print(p,end=\" \")\n",
    "    p+= 1\n",
    "    print()"
   ]
  },
  {
   "cell_type": "code",
   "execution_count": 34,
   "id": "c1e8b291-3590-46a0-98df-2daa8a89668f",
   "metadata": {},
   "outputs": [
    {
     "name": "stdout",
     "output_type": "stream",
     "text": [
      "1 \n",
      "2 2 \n",
      "1 1 1 \n",
      "2 2 2 2 \n",
      "1 1 1 1 1 \n"
     ]
    }
   ],
   "source": [
    "n = 5\n",
    "for i in range(n):\n",
    "    for j in range(i+1):\n",
    "        if i%2==0:\n",
    "            print(\"1\",end=\" \")\n",
    "        else:\n",
    "            print(\"2\",end=\" \")\n",
    "    print()"
   ]
  },
  {
   "cell_type": "code",
   "execution_count": 48,
   "id": "d02ddfd7-1996-49b0-b0aa-7badc44e3bfe",
   "metadata": {},
   "outputs": [
    {
     "name": "stdout",
     "output_type": "stream",
     "text": [
      "                  $ \n",
      "                # # # \n",
      "              $ $ $ $ $ \n",
      "            # # # # # # # \n",
      "          $ $ $ $ $ $ $ $ $ \n",
      "        # # # # # # # # # # # \n",
      "      $ $ $ $ $ $ $ $ $ $ $ $ $ \n",
      "    # # # # # # # # # # # # # # # \n",
      "  $ $ $ $ $ $ $ $ $ $ $ $ $ $ $ $ $ \n"
     ]
    }
   ],
   "source": [
    "n = 9\n",
    "for i in range(n):\n",
    "    for j in range(i,n):\n",
    "        print(\" \",end=\" \")\n",
    "    for j in range(i+1-1):\n",
    "        if i%2==0:\n",
    "            print(\"$\",end=\" \")\n",
    "        else:\n",
    "            print(\"#\",end=\" \")\n",
    "    for j in range(i+1):\n",
    "        if i%2==0:\n",
    "            print(\"$\",end=\" \")\n",
    "        else:\n",
    "            print(\"#\",end=\" \")\n",
    "        \n",
    "    print()"
   ]
  },
  {
   "cell_type": "code",
   "execution_count": 82,
   "id": "aae02820-e33f-4166-a2cc-202faf1d1ade",
   "metadata": {},
   "outputs": [
    {
     "name": "stdout",
     "output_type": "stream",
     "text": [
      "          1 \n",
      "        2 2 2 \n",
      "      3 3 3 3 3 \n",
      "    4 4 4 4 4 4 4 \n",
      "  5 5 5 5 5 5 5 5 5 \n",
      "  4 4 4 4 4 4 4 4 4 4 \n",
      "    3 3 3 3 3 3 3 3 \n",
      "      2 2 2 2 2 2 \n",
      "        1 1 1 1 \n",
      "          0 0 \n"
     ]
    }
   ],
   "source": [
    "n = 5\n",
    "p = 1\n",
    "for i in range(n):\n",
    "    for j in range(i,n):\n",
    "        print(\" \",end=\" \") \n",
    "    for j in range(i+1-1):\n",
    "        print(p,end=\" \")\n",
    "    for j in range(i+1):\n",
    "        print(p,end=\" \")\n",
    "    p+= 1\n",
    "\n",
    "    print()\n",
    "p = 4\n",
    "for i in range(n):\n",
    "    for j in range(i+1):\n",
    "        print(\" \",end=\" \")\n",
    "    for j in range(i,n):\n",
    "        print(p,end=\" \")\n",
    "    for j in range(i,n):\n",
    "        print(p,end=\" \")\n",
    "    p-=1\n",
    "    print()"
   ]
  },
  {
   "cell_type": "code",
   "execution_count": 84,
   "id": "73d92fce-3a3f-493b-8cd2-0ae62c87bb8c",
   "metadata": {},
   "outputs": [
    {
     "name": "stdout",
     "output_type": "stream",
     "text": [
      "1 \n",
      "1 2 \n",
      "1 2 3 \n",
      "1 2 3 4 \n",
      "1 2 3 4 5 \n"
     ]
    }
   ],
   "source": [
    "n = 5\n",
    "for i in range(n):\n",
    "    p=1\n",
    "    for j in range(i+1):\n",
    "        print(p,end=\" \")\n",
    "        p+=1\n",
    "    print()"
   ]
  },
  {
   "cell_type": "code",
   "execution_count": 88,
   "id": "11841b94-3b95-4802-bb35-f7c913c04da6",
   "metadata": {},
   "outputs": [
    {
     "name": "stdout",
     "output_type": "stream",
     "text": [
      "  1 2 3 4 5 \n",
      "    1 2 3 4 \n",
      "      1 2 3 \n",
      "        1 2 \n",
      "          1 \n"
     ]
    }
   ],
   "source": [
    "n = 5\n",
    "for i in range(n):\n",
    "    p = 1\n",
    "    for  j in range(i+1):\n",
    "        print(\" \",end=\" \")\n",
    "    for j in range(i,n):\n",
    "        print(p,end=\" \")\n",
    "        p+=1\n",
    "    print()"
   ]
  },
  {
   "cell_type": "code",
   "execution_count": 1,
   "id": "94b1374c-bc7d-4f44-9d90-4c60c732c125",
   "metadata": {},
   "outputs": [
    {
     "name": "stdin",
     "output_type": "stream",
     "text": [
      "n: 1\n",
      "m: 10\n"
     ]
    },
    {
     "name": "stdout",
     "output_type": "stream",
     "text": [
      "5\n"
     ]
    }
   ],
   "source": [
    "n = int(input(\"n:\"))\n",
    "m = int(input(\"m:\"))\n",
    "for i in range(n,m):\n",
    "    if i%5==0:\n",
    "        break\n",
    "print(i)"
   ]
  },
  {
   "cell_type": "code",
   "execution_count": 5,
   "id": "a0e4a906-4a16-4893-acd1-4a2d0a433688",
   "metadata": {},
   "outputs": [
    {
     "name": "stdout",
     "output_type": "stream",
     "text": [
      "  @ @ @ @ @ @ @ @ @ @ @ @ @ @ @ @ @ @ \n",
      "    @ @ @ @ @ @ @ @ @ @ @ @ @ @ @ @ \n",
      "      @ @ @ @ @ @ @ @ @ @ @ @ @ @ \n",
      "        @ @ @ @ @ @ @ @ @ @ @ @ \n",
      "          @ @ @ @ @ @ @ @ @ @ \n",
      "            @ @ @ @ @ @ @ @ \n",
      "              @ @ @ @ @ @ \n",
      "                @ @ @ @ \n",
      "                  @ @ \n"
     ]
    }
   ],
   "source": [
    "n = 9\n",
    "for i in range(n):\n",
    "    for j in range(i+1):\n",
    "        print(\" \",end=\" \")\n",
    "    for j in range(i,n):\n",
    "        print(\"@\",end=\" \")\n",
    "    for j in range(i,n):\n",
    "        print(\"@\",end=\" \")\n",
    "    print()"
   ]
  },
  {
   "cell_type": "code",
   "execution_count": 19,
   "id": "912085c7-993c-4b0c-8cb8-a6b8d5c6b77c",
   "metadata": {},
   "outputs": [
    {
     "name": "stdout",
     "output_type": "stream",
     "text": [
      "1 \n",
      "1 2 \n",
      "1 2 3 \n",
      "1 2 3 4 \n",
      "1 2 3 4 5 \n"
     ]
    }
   ],
   "source": [
    "n = 5\n",
    "for i in range(n):\n",
    "    p = 1\n",
    "    for j in range(i+1):\n",
    "        print(p, end=\" \")\n",
    "        p = p+1\n",
    "    print()"
   ]
  },
  {
   "cell_type": "code",
   "execution_count": 1,
   "id": "e5264967-d892-46a1-a9f7-a1dd8ee998ab",
   "metadata": {},
   "outputs": [
    {
     "name": "stdin",
     "output_type": "stream",
     "text": [
      " hello\n"
     ]
    },
    {
     "name": "stdout",
     "output_type": "stream",
     "text": [
      "helloolleh\n"
     ]
    }
   ],
   "source": [
    "a = input()\n"
   ]
  },
  {
   "cell_type": "code",
   "execution_count": null,
   "id": "8faf93a4-241f-48c8-ae62-46e16bfd9a08",
   "metadata": {},
   "outputs": [],
   "source": []
  }
 ],
 "metadata": {
  "kernelspec": {
   "display_name": "Python 3 (ipykernel)",
   "language": "python",
   "name": "python3"
  },
  "language_info": {
   "codemirror_mode": {
    "name": "ipython",
    "version": 3
   },
   "file_extension": ".py",
   "mimetype": "text/x-python",
   "name": "python",
   "nbconvert_exporter": "python",
   "pygments_lexer": "ipython3",
   "version": "3.12.4"
  }
 },
 "nbformat": 4,
 "nbformat_minor": 5
}
