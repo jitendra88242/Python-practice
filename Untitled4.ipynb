{
 "cells": [
  {
   "cell_type": "code",
   "execution_count": 15,
   "id": "50a5eb72-d1cd-4ee0-b68d-e0db7755bd5d",
   "metadata": {},
   "outputs": [
    {
     "name": "stdout",
     "output_type": "stream",
     "text": [
      "Even\n"
     ]
    }
   ],
   "source": [
    "n = 5\n",
    "def odd_even(n):\n",
    "    if n%2==0:\n",
    "        print(\"Even\")\n",
    "    else:\n",
    "        print(\"Odd\")\n",
    "odd_even(36)"
   ]
  },
  {
   "cell_type": "code",
   "execution_count": 5,
   "id": "123b5dd9-4394-48c6-8de7-8460a134234d",
   "metadata": {},
   "outputs": [
    {
     "name": "stdin",
     "output_type": "stream",
     "text": [
      " aartyuhaartvabna\n",
      " a\n"
     ]
    },
    {
     "name": "stdout",
     "output_type": "stream",
     "text": [
      "Found a position 0\n",
      "Found a position 1\n",
      "Found a position 7\n",
      "Found a position 8\n",
      "Found a position 12\n",
      "Found a position 15\n"
     ]
    }
   ],
   "source": [
    "s = input(\"\")\n",
    "sub = input(\"\")\n",
    "flag=False\n",
    "pos =-1\n",
    "n = len(s)\n",
    "while True:\n",
    "    pos = s.find(sub,pos+1,n)\n",
    "    if pos==-1:\n",
    "        break \n",
    "    print(\"Found a position\",pos)\n",
    "    flag=True\n",
    "if flag==False:\n",
    "    print(\"not found\")"
   ]
  },
  {
   "cell_type": "code",
   "execution_count": 7,
   "id": "758f3aff-577c-4356-a399-0b7a4e069209",
   "metadata": {},
   "outputs": [
    {
     "name": "stdout",
     "output_type": "stream",
     "text": [
      "jitu choudhary\n"
     ]
    }
   ],
   "source": [
    "s=\"jitu choudhary\"\n",
    "l=s.split(\"____\")\n",
    "for x in l:\n",
    "    print(x)"
   ]
  },
  {
   "cell_type": "code",
   "execution_count": 7,
   "id": "317ccc6a-109a-49f4-a5cb-065433e0a972",
   "metadata": {},
   "outputs": [
    {
     "name": "stdout",
     "output_type": "stream",
     "text": [
      "(40, 10, 30, 20)\n",
      "[40, 30, 20, 10]\n"
     ]
    }
   ],
   "source": [
    "t = (40,10,30,20)\n",
    "t1 = sorted(t,reverse=True)\n",
    "print(t)\n",
    "print(t1)"
   ]
  },
  {
   "cell_type": "code",
   "execution_count": null,
   "id": "c8725128-a0de-4f73-834c-e0dd9d0d0e87",
   "metadata": {},
   "outputs": [],
   "source": []
  },
  {
   "cell_type": "code",
   "execution_count": null,
   "id": "e1d7a544-2a97-4708-91f0-1302d9bffa67",
   "metadata": {},
   "outputs": [],
   "source": []
  }
 ],
 "metadata": {
  "kernelspec": {
   "display_name": "Python 3 (ipykernel)",
   "language": "python",
   "name": "python3"
  },
  "language_info": {
   "codemirror_mode": {
    "name": "ipython",
    "version": 3
   },
   "file_extension": ".py",
   "mimetype": "text/x-python",
   "name": "python",
   "nbconvert_exporter": "python",
   "pygments_lexer": "ipython3",
   "version": "3.12.4"
  }
 },
 "nbformat": 4,
 "nbformat_minor": 5
}
