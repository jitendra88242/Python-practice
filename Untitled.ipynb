{
 "cells": [
  {
   "cell_type": "code",
   "execution_count": 15,
   "id": "2f1e5816-0ccf-446c-baff-e664d4712bf5",
   "metadata": {},
   "outputs": [
    {
     "name": "stdout",
     "output_type": "stream",
     "text": [
      "The sum is 30\n",
      "The sum is 300\n"
     ]
    }
   ],
   "source": [
    "#function...........\n",
    "#code reusability.\n",
    "def add(x,y):\n",
    "     return x+y\n",
    "   \n",
    "result = add(10,20)\n",
    "print(\"The sum is\",result)\n",
    "print(\"The sum is\",add(100,200))"
   ]
  },
  {
   "cell_type": "code",
   "execution_count": 9,
   "id": "5d98ad9f-c233-4774-ae5d-b1f33576182e",
   "metadata": {},
   "outputs": [
    {
     "name": "stdout",
     "output_type": "stream",
     "text": [
      "Hello\n",
      "Hello\n",
      "None\n"
     ]
    }
   ],
   "source": [
    "def f1():\n",
    "    print(\"Hello\")\n",
    "f1()\n",
    "print(f1())"
   ]
  },
  {
   "cell_type": "code",
   "execution_count": 17,
   "id": "1065cd49-6fe2-46c3-8bf2-b9f8d9b01426",
   "metadata": {},
   "outputs": [
    {
     "name": "stdout",
     "output_type": "stream",
     "text": [
      "10 is even num\n",
      "15 is odd nym\n"
     ]
    }
   ],
   "source": [
    "def even_odd(num):\n",
    "    if num%2==0:\n",
    "        print(num,\"is even num\")\n",
    "    else:\n",
    "        print(num,\"is odd nym\")\n",
    "even_odd(10)\n",
    "even_odd(15)"
   ]
  },
  {
   "cell_type": "code",
   "execution_count": 19,
   "id": "4477b04f-73c4-452e-81a2-4a6f9e3ef9ef",
   "metadata": {},
   "outputs": [
    {
     "name": "stdout",
     "output_type": "stream",
     "text": [
      "The factorial is 1\n",
      "The factorial is 2\n",
      "The factorial is 3\n"
     ]
    }
   ],
   "source": [
    "def fact(num):\n",
    "    result = 1\n",
    "    while num>=1:\n",
    "        result=result*num\n",
    "        num=num-1\n",
    "    return result\n",
    "for i in range(1,4):\n",
    "    print(\"The factorial is\",i)\n"
   ]
  },
  {
   "cell_type": "code",
   "execution_count": 37,
   "id": "df0c134f-f2c7-41f1-a16f-53c347394eb7",
   "metadata": {},
   "outputs": [
    {
     "name": "stdout",
     "output_type": "stream",
     "text": [
      "the mul is: 5000\n",
      "The div is: 2\n"
     ]
    }
   ],
   "source": [
    "def mul_div(a,b):\n",
    "    mul=a*b\n",
    "    div=a/b\n",
    "    return mul,div\n",
    "x,y=mul_div(100,50)\n",
    "print(\"the mul is:\",x)\n",
    "print(\"The div is:\",int(y))"
   ]
  },
  {
   "cell_type": "code",
   "execution_count": 31,
   "id": "d540f3e1-692b-488d-a3ad-990f12eee1a7",
   "metadata": {},
   "outputs": [],
   "source": [
    "#there are  4 type argument allowed in python\n",
    "# 1. positional argu\n",
    "# 2. keyword argu\n",
    "# 3. default argu\n",
    "# 4. Variable length argu4"
   ]
  },
  {
   "cell_type": "code",
   "execution_count": 1,
   "id": "093d537f-edf6-4d26-9643-39831cd21d6b",
   "metadata": {},
   "outputs": [
    {
     "name": "stdout",
     "output_type": "stream",
     "text": [
      "The sum= 0\n",
      "The sum= 10\n",
      "The sum= 30\n",
      "The sum= 100\n"
     ]
    }
   ],
   "source": [
    "#variable length argu\n",
    "# we can call this  function bt passing any number of argument including zero number internally all these values represent in the form of tuple..\n",
    "\n",
    "def sum(*n):\n",
    "    total=0\n",
    "    for n1 in n:\n",
    "        total=total+n1\n",
    "    print(\"The sum=\",total)\n",
    "\n",
    "sum()\n",
    "sum(10)\n",
    "sum(10,20)\n",
    "sum(10,20,30,40)"
   ]
  },
  {
   "cell_type": "code",
   "execution_count": 3,
   "id": "ed8181a8-4f0a-44c9-8afc-efd6a8823a3e",
   "metadata": {},
   "outputs": [
    {
     "name": "stdout",
     "output_type": "stream",
     "text": [
      "()\n",
      "(0,)\n",
      "(10, 20)\n",
      "(10, 20, 30)\n"
     ]
    }
   ],
   "source": [
    "def f1(*n):\n",
    "    print(n)\n",
    "f1()\n",
    "f1(0)\n",
    "f1(10,20)\n",
    "f1(10,20,30)"
   ]
  },
  {
   "cell_type": "code",
   "execution_count": 7,
   "id": "296d37f7-cafa-4973-8f31-5cfe0d9cd237",
   "metadata": {},
   "outputs": [
    {
     "name": "stdout",
     "output_type": "stream",
     "text": [
      "10\n",
      "10\n",
      "20\n",
      "30\n",
      "10\n",
      "A\n",
      "30\n",
      "B\n"
     ]
    }
   ],
   "source": [
    "def f1(n1,*s):\n",
    "    print(n1)\n",
    "    for s1 in s:\n",
    "        print(s1)\n",
    "f1(10)\n",
    "f1(10,20,30)\n",
    "f1(10,\"A\",30,\"B\")"
   ]
  },
  {
   "cell_type": "code",
   "execution_count": 9,
   "id": "87264afa-984b-4e60-b4bd-15e6075d19d6",
   "metadata": {},
   "outputs": [],
   "source": [
    "#function vs modules vs Library:\n",
    "# 1.  A group of lines with some name is called Fuction\n",
    "# 2.  A group of function saved to a file,is called Modules\n",
    "#3 .  A group of modules is nothing but Library "
   ]
  },
  {
   "cell_type": "code",
   "execution_count": null,
   "id": "6c26a3ad-bc18-4ffe-8484-03daf3ec9073",
   "metadata": {},
   "outputs": [],
   "source": [
    "# advantage of recursive function\n",
    "#1. we can reduce the length of the code and improves readability\n",
    "#2. we can solve complex problem easily\n"
   ]
  },
  {
   "cell_type": "code",
   "execution_count": 1,
   "id": "e01838eb-ce48-4690-b1ac-8479ecfdf763",
   "metadata": {},
   "outputs": [
    {
     "name": "stdout",
     "output_type": "stream",
     "text": [
      "The square of 4 is 16\n"
     ]
    }
   ],
   "source": [
    "s = lambda n:n*n\n",
    "print(\"The square of 4 is\",s(4))"
   ]
  },
  {
   "cell_type": "code",
   "execution_count": 3,
   "id": "a8c93951-7462-491a-bea1-4f8eaaf33b2a",
   "metadata": {},
   "outputs": [
    {
     "name": "stdout",
     "output_type": "stream",
     "text": [
      "The sum of 10,20 is 30\n"
     ]
    }
   ],
   "source": [
    "s = lambda a,b:a+b\n",
    "print(\"The sum of 10,20 is\",s(10,20))"
   ]
  },
  {
   "cell_type": "code",
   "execution_count": 11,
   "id": "3d34d178-c86b-4bc7-93c4-96475af34470",
   "metadata": {},
   "outputs": [
    {
     "name": "stdout",
     "output_type": "stream",
     "text": [
      "20\n"
     ]
    }
   ],
   "source": [
    "s = lambda a,b: a if a>b else b\n",
    "print(s(10,20))"
   ]
  },
  {
   "cell_type": "code",
   "execution_count": 17,
   "id": "3843b985-ab58-4595-a5e1-f7e0d2601260",
   "metadata": {},
   "outputs": [
    {
     "name": "stdout",
     "output_type": "stream",
     "text": [
      "[0, 50, 10, 20, 30]\n",
      "[25]\n"
     ]
    }
   ],
   "source": [
    "l=[0,50,10,20,25,30]\n",
    "l1=list(filter(lambda x:x%2==0,l))\n",
    "print(l1)\n",
    "l2=list(filter(lambda x:x%2!=0,l))\n",
    "print(l2)"
   ]
  },
  {
   "cell_type": "code",
   "execution_count": 7,
   "id": "85765dc8-90ef-493f-a92b-0c6535b51388",
   "metadata": {},
   "outputs": [
    {
     "name": "stdout",
     "output_type": "stream",
     "text": [
      "<function square.<locals>.cube at 0x000001CC0A18F4C0>\n"
     ]
    },
    {
     "data": {
      "text/plain": [
       "64"
      ]
     },
     "execution_count": 7,
     "metadata": {},
     "output_type": "execute_result"
    }
   ],
   "source": [
    "# xcomposition function \n",
    "def square(x):\n",
    "    def cube(y):\n",
    "        return y**3\n",
    "    return cube\n",
    "a = square(12)\n",
    "print(a)\n",
    "b = a(4)\n",
    "b"
   ]
  },
  {
   "cell_type": "code",
   "execution_count": 1,
   "id": "b788b274-16f3-4e6f-a9a0-45380e2a7c86",
   "metadata": {},
   "outputs": [
    {
     "name": "stdin",
     "output_type": "stream",
     "text": [
      "Enter character 1:  c\n",
      "Enter character 2:  o\n",
      "Enter character 3:  d\n",
      "Enter character 4:  e\n",
      "Enter character 5:  r\n"
     ]
    },
    {
     "name": "stdout",
     "output_type": "stream",
     "text": [
      "The combined word is: coder\n"
     ]
    }
   ],
   "source": [
    "# Take five single-character inputs from the user\n",
    "chars = []\n",
    "for i in range(5):\n",
    "    char = input(f\"Enter character {i + 1}: \")\n",
    "    while len(char) != 1:  # Ensure it's a single character\n",
    "        char = input(\"Please enter a single character: \")\n",
    "    chars.append(char)\n",
    "\n",
    "# Combine the characters into a word\n",
    "word = ''.join(chars)\n",
    "\n",
    "# Print the resulting word\n",
    "print(\"The combined word is:\", word)\n"
   ]
  },
  {
   "cell_type": "code",
   "execution_count": 3,
   "id": "3f7c51bf-14ed-43f9-9599-a3e6b5e76005",
   "metadata": {},
   "outputs": [
    {
     "name": "stdin",
     "output_type": "stream",
     "text": [
      "Enter character 1:  c\n",
      "Enter character 2:  o\n",
      "Enter character 3:  d\n",
      "Enter character 4:  e\n",
      "Enter character 5:  r\n"
     ]
    },
    {
     "name": "stdout",
     "output_type": "stream",
     "text": [
      "The combined word is: coder\n"
     ]
    }
   ],
   "source": [
    "def create_word_from_chars():\n",
    "    chars = []\n",
    "    for i in range(5):\n",
    "        char = input(f\"Enter character {i + 1}: \")\n",
    "        while len(char) != 1:  # Ensure it's a single character\n",
    "            char = input(\"Please enter a single character: \")\n",
    "        chars.append(char)\n",
    "    \n",
    "    # Combine the characters into a word\n",
    "    word = ''.join(chars)\n",
    "    return word\n",
    "\n",
    "# Call the function and print the result\n",
    "combined_word = create_word_from_chars()\n",
    "print(\"The combined word is:\", combined_word)\n"
   ]
  },
  {
   "cell_type": "code",
   "execution_count": 5,
   "id": "a68ec929-507d-4042-b3ec-df33f0f09128",
   "metadata": {},
   "outputs": [
    {
     "name": "stdin",
     "output_type": "stream",
     "text": [
      "Enter integer 1:  3\n",
      "Enter integer 2:  4\n",
      "Enter integer 3:  5\n",
      "Enter integer 4:  6\n",
      "Enter integer 5:  7\n"
     ]
    },
    {
     "name": "stdout",
     "output_type": "stream",
     "text": [
      "The minimum value is: 3\n"
     ]
    }
   ],
   "source": [
    "def my_min(*args):\n",
    "    # Check if there are at least five arguments\n",
    "    if len(args) < 5:\n",
    "        return \"Please provide at least five integers.\"\n",
    "    \n",
    "    # Return the minimum value from the given arguments\n",
    "    return min(args)\n",
    "\n",
    "# Function to collect input from the user\n",
    "def get_five_integers():\n",
    "    integers = []\n",
    "    for i in range(5):\n",
    "        while True:\n",
    "            try:\n",
    "                num = int(input(f\"Enter integer {i + 1}: \"))\n",
    "                integers.append(num)\n",
    "                break\n",
    "            except ValueError:\n",
    "                print(\"Please enter a valid integer.\")\n",
    "    return integers\n",
    "\n",
    "# Collecting integers from the user\n",
    "user_input = get_five_integers()\n",
    "\n",
    "# Calling my_min function and printing the result\n",
    "minimum_value = my_min(*user_input)\n",
    "print(\"The minimum value is:\", minimum_value)\n",
    "\n"
   ]
  },
  {
   "cell_type": "code",
   "execution_count": null,
   "id": "15aa5d9d-e3f5-4bd7-9602-152684a1c754",
   "metadata": {},
   "outputs": [],
   "source": []
  }
 ],
 "metadata": {
  "kernelspec": {
   "display_name": "Python 3 (ipykernel)",
   "language": "python",
   "name": "python3"
  },
  "language_info": {
   "codemirror_mode": {
    "name": "ipython",
    "version": 3
   },
   "file_extension": ".py",
   "mimetype": "text/x-python",
   "name": "python",
   "nbconvert_exporter": "python",
   "pygments_lexer": "ipython3",
   "version": "3.12.4"
  }
 },
 "nbformat": 4,
 "nbformat_minor": 5
}
