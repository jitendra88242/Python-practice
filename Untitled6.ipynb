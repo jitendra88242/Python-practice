{
 "cells": [
  {
   "cell_type": "code",
   "execution_count": 17,
   "id": "d8c1e86e-0af5-43d5-9534-781f7013c59d",
   "metadata": {},
   "outputs": [
    {
     "name": "stdout",
     "output_type": "stream",
     "text": [
      "durga\n",
      "shiva\n",
      "dict_keys([100, 200, 300])\n",
      "100\n",
      "200\n",
      "300\n"
     ]
    }
   ],
   "source": [
    "d = {100:'durga',200:'ravi',300:'shiva'}\n",
    "print(d[100])\n",
    "print(d[300])\n",
    "print(d.keys())\n",
    "for k in d.keys():\n",
    "    print(k)"
   ]
  },
  {
   "cell_type": "code",
   "execution_count": 9,
   "id": "719651c0-1b80-44dc-8d32-f8ce20204d07",
   "metadata": {},
   "outputs": [],
   "source": [
    "if 400 in d:\n",
    "    print(d[400])"
   ]
  },
  {
   "cell_type": "code",
   "execution_count": 21,
   "id": "8590cb70-d27d-455b-8ac0-a98a62bd4136",
   "metadata": {},
   "outputs": [
    {
     "data": {
      "text/plain": [
       "{0: 0, 1: 1, 2: 4, 3: 9, 4: 16}"
      ]
     },
     "execution_count": 21,
     "metadata": {},
     "output_type": "execute_result"
    }
   ],
   "source": [
    "\n",
    "{S:S**2 for S in range(5)}\n"
   ]
  },
  {
   "cell_type": "code",
   "execution_count": 5,
   "id": "4e5da2ef-9091-4668-80bf-82aab66df637",
   "metadata": {},
   "outputs": [
    {
     "name": "stdin",
     "output_type": "stream",
     "text": [
      "Enter word: JITENDRA\n"
     ]
    },
    {
     "name": "stdout",
     "output_type": "stream",
     "text": [
      "{'E', 'I', 'A'}\n"
     ]
    }
   ],
   "source": [
    "a = input(\"Enter word:\")\n",
    "s = set(a)\n",
    "v = {\"A\",\"E\",\"I\",\"O\",\"u\"}\n",
    "d = s&v \n",
    "print(d)"
   ]
  },
  {
   "cell_type": "code",
   "execution_count": null,
   "id": "12645d46-01c4-4a05-9910-8efc0c78c637",
   "metadata": {},
   "outputs": [],
   "source": []
  }
 ],
 "metadata": {
  "kernelspec": {
   "display_name": "Python 3 (ipykernel)",
   "language": "python",
   "name": "python3"
  },
  "language_info": {
   "codemirror_mode": {
    "name": "ipython",
    "version": 3
   },
   "file_extension": ".py",
   "mimetype": "text/x-python",
   "name": "python",
   "nbconvert_exporter": "python",
   "pygments_lexer": "ipython3",
   "version": "3.12.4"
  }
 },
 "nbformat": 4,
 "nbformat_minor": 5
}
