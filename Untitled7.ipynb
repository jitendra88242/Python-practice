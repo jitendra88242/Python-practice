{
 "cells": [
  {
   "cell_type": "code",
   "execution_count": 15,
   "id": "9b0e92cc-7511-409b-a385-a5415660b0e5",
   "metadata": {},
   "outputs": [
    {
     "name": "stdout",
     "output_type": "stream",
     "text": [
      "Help on class student in module __main__:\n",
      "\n",
      "class student(builtins.object)\n",
      " |  The class represent  student.\n",
      " |\n",
      " |  Data descriptors defined here:\n",
      " |\n",
      " |  __dict__\n",
      " |      dictionary for instance variables\n",
      " |\n",
      " |  __weakref__\n",
      " |      list of weak references to the object\n",
      "\n",
      "The class represent  student.\n"
     ]
    }
   ],
   "source": [
    "class student:\n",
    "    \"\"\"The class represent  student.\"\"\"\n",
    "help(student)\n",
    "print(student.__doc__)"
   ]
  },
  {
   "cell_type": "code",
   "execution_count": 1,
   "id": "71d22824-c341-4237-9d27-12bf3dc4fdc9",
   "metadata": {},
   "outputs": [
    {
     "ename": "SyntaxError",
     "evalue": "invalid syntax (2314207576.py, line 3)",
     "output_type": "error",
     "traceback": [
      "\u001b[1;36m  Cell \u001b[1;32mIn[1], line 3\u001b[1;36m\u001b[0m\n\u001b[1;33m    def__init__(self):\u001b[0m\n\u001b[1;37m                     ^\u001b[0m\n\u001b[1;31mSyntaxError\u001b[0m\u001b[1;31m:\u001b[0m invalid syntax\n"
     ]
    }
   ],
   "source": [
    "class student:\n",
    "    \"\"\"This class is developed by u\"\"\"\n",
    "    name='durga'\n",
    "    age=40\n",
    "    marks=80\n",
    "\n",
    "\n",
    "    def talk(self):\n",
    "        print(\"Hello i am:\",self.name)\n",
    "        print(\"My Age is:\",self.age)\n",
    "        print(\"My Marks are:\",self.marks)\n",
    "    b=student()\n"
   ]
  },
  {
   "cell_type": "code",
   "execution_count": 5,
   "id": "db8229a7-f61d-49bd-8905-3ddca27860bf",
   "metadata": {},
   "outputs": [],
   "source": [
    "class Book:\n",
    "    def __init__(self, Author, Tittle):\n",
    "        self.harsh=Author\n",
    "        self.bro=Tittle\n",
    "    def call(self):\n",
    "        print(f\"{self.bro}\")\n",
    "        print(f\"{self.harsh}\")\n",
    "b = Book(\"Ram\", \"Lingam\")        "
   ]
  },
  {
   "cell_type": "code",
   "execution_count": 33,
   "id": "ab6c8a1f-3d49-4f1d-a8c3-2e9e3253b1b8",
   "metadata": {},
   "outputs": [
    {
     "name": "stdout",
     "output_type": "stream",
     "text": [
      "Lingam\n",
      "Ram\n"
     ]
    }
   ],
   "source": [
    "b.call()"
   ]
  },
  {
   "cell_type": "code",
   "execution_count": 3,
   "id": "610645be-9641-46af-a880-af81455629e4",
   "metadata": {},
   "outputs": [
    {
     "name": "stdout",
     "output_type": "stream",
     "text": [
      "jiyendra\n"
     ]
    }
   ],
   "source": [
    "a = int(input(56))\n"
   ]
  },
  {
   "cell_type": "code",
   "execution_count": 19,
   "id": "4e6047cd-4155-4ac0-a453-d30d6c6b8096",
   "metadata": {},
   "outputs": [
    {
     "name": "stdout",
     "output_type": "stream",
     "text": [
      "harsh\n",
      "wwe\n"
     ]
    }
   ],
   "source": [
    "class student:\n",
    "    def __init__(self,author,tittle):\n",
    "        self.author = author\n",
    "        self.tittle = tittle\n",
    "    def call(self):\n",
    "        print(self.author)\n",
    "        print(self.tittle)\n",
    "c = student(\"harsh\",\"wwe\")\n",
    "c.call()\n",
    "        "
   ]
  },
  {
   "cell_type": "code",
   "execution_count": 15,
   "id": "ab899d40-0464-4719-b66e-0e1c97d1bbf9",
   "metadata": {},
   "outputs": [
    {
     "name": "stdout",
     "output_type": "stream",
     "text": [
      "Harsh\n",
      "Ram\n"
     ]
    }
   ],
   "source": [
    "class Student:\n",
    "    def __init__(self, author, title):\n",
    "        # Initialize instance variables\n",
    "        self.author = author\n",
    "        self.title = title\n",
    "\n",
    "    def call(self):\n",
    "        print(self.author)\n",
    "        print(self.title)\n",
    "\n",
    "# Creating an instance of the class\n",
    "c = Student(\"Harsh\", \"Ram\")\n",
    "c.call()"
   ]
  },
  {
   "cell_type": "code",
   "execution_count": null,
   "id": "59904a9b-8002-49e7-af81-98d65a43be9e",
   "metadata": {},
   "outputs": [],
   "source": []
  }
 ],
 "metadata": {
  "kernelspec": {
   "display_name": "Python 3 (ipykernel)",
   "language": "python",
   "name": "python3"
  },
  "language_info": {
   "codemirror_mode": {
    "name": "ipython",
    "version": 3
   },
   "file_extension": ".py",
   "mimetype": "text/x-python",
   "name": "python",
   "nbconvert_exporter": "python",
   "pygments_lexer": "ipython3",
   "version": "3.12.4"
  }
 },
 "nbformat": 4,
 "nbformat_minor": 5
}
